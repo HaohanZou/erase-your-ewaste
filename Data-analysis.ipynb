{
 "cells": [
  {
   "cell_type": "code",
   "execution_count": 2,
   "metadata": {},
   "outputs": [],
   "source": [
    "import pandas as pd\n",
    "import numpy as np\n",
    "import os\n",
    "\n",
    "import plotly.express as px\n",
    "pd.options.plotting.backend = 'plotly'"
   ]
  },
  {
   "cell_type": "code",
   "execution_count": 3,
   "metadata": {},
   "outputs": [
    {
     "data": {
      "text/html": [
       "<div>\n",
       "<style scoped>\n",
       "    .dataframe tbody tr th:only-of-type {\n",
       "        vertical-align: middle;\n",
       "    }\n",
       "\n",
       "    .dataframe tbody tr th {\n",
       "        vertical-align: top;\n",
       "    }\n",
       "\n",
       "    .dataframe thead th {\n",
       "        text-align: right;\n",
       "    }\n",
       "</style>\n",
       "<table border=\"1\" class=\"dataframe\">\n",
       "  <thead>\n",
       "    <tr style=\"text-align: right;\">\n",
       "      <th></th>\n",
       "      <th>Timestamp</th>\n",
       "      <th>Have you ever lived on campus?</th>\n",
       "      <th>If you live (lived) on campus, which college dorm do (did) you live in?</th>\n",
       "      <th>On a scale of 1 to 5, how easy you would say it is to get your e-waste recycled on campus?</th>\n",
       "      <th>Do you have any gadget, batteries, vapes, or appliances that needs to be thrown away?</th>\n",
       "      <th>What is the MOST annoying thing regarding e-waste recycling on campus?</th>\n",
       "      <th>When you need to get rid of batteries or gadgets, where do you usually throw them away?</th>\n",
       "      <th>What's your opinion on UCSD's e-waste recycling services?</th>\n",
       "      <th>Have you ever obtained an e-cigarette?</th>\n",
       "      <th>Can I put batteries into the blue recycling bin?</th>\n",
       "      <th>What happens to batteries once they are in the landfill?</th>\n",
       "      <th>Is this an e-waste?</th>\n",
       "      <th>If you were to throw away an e-cigarette, how would you do it?</th>\n",
       "      <th>Is this an e-waste? .1</th>\n",
       "      <th>How would you recycle a microwave?</th>\n",
       "    </tr>\n",
       "  </thead>\n",
       "  <tbody>\n",
       "    <tr>\n",
       "      <th>0</th>\n",
       "      <td>11/2/2023 14:25:26</td>\n",
       "      <td>Yes, I have lived on campus in the past</td>\n",
       "      <td>Seventh</td>\n",
       "      <td>5.0</td>\n",
       "      <td>Yes, a few</td>\n",
       "      <td>Have to look up online first</td>\n",
       "      <td>I hoard them because there's no appropriate pl...</td>\n",
       "      <td>UCSD has recycling services??</td>\n",
       "      <td>No</td>\n",
       "      <td>No</td>\n",
       "      <td>They can leak and DESTROY THE EARTH</td>\n",
       "      <td>Yes</td>\n",
       "      <td>Hoard it somewhere because I don't know where ...</td>\n",
       "      <td>Yes</td>\n",
       "      <td>Bringing it to an appliance recycler</td>\n",
       "    </tr>\n",
       "    <tr>\n",
       "      <th>1</th>\n",
       "      <td>11/2/2023 14:31:04</td>\n",
       "      <td>Yes, I live on campus now</td>\n",
       "      <td>Sixth</td>\n",
       "      <td>4.0</td>\n",
       "      <td>Yes, a few</td>\n",
       "      <td>Have to look up online first</td>\n",
       "      <td>a general recycling bin</td>\n",
       "      <td>UCSD has recycling services??</td>\n",
       "      <td>No</td>\n",
       "      <td>No</td>\n",
       "      <td>They can leak and destroy the earth</td>\n",
       "      <td>Yes</td>\n",
       "      <td>Trashing it into the recycling bin</td>\n",
       "      <td>Yes</td>\n",
       "      <td>Put it in the blue recycling trash</td>\n",
       "    </tr>\n",
       "    <tr>\n",
       "      <th>2</th>\n",
       "      <td>11/2/2023 14:31:07</td>\n",
       "      <td>Yes, I have lived on campus in the past</td>\n",
       "      <td>Seventh</td>\n",
       "      <td>4.0</td>\n",
       "      <td>No</td>\n",
       "      <td>Have to look up online first</td>\n",
       "      <td>a trash bin</td>\n",
       "      <td>UCSD has recycling services??</td>\n",
       "      <td>No</td>\n",
       "      <td>No</td>\n",
       "      <td>They can leak and destroy the earth</td>\n",
       "      <td>Yes</td>\n",
       "      <td>Trashing it into the trash bin</td>\n",
       "      <td>Yes</td>\n",
       "      <td>Bringing it to an appliance recycler</td>\n",
       "    </tr>\n",
       "    <tr>\n",
       "      <th>3</th>\n",
       "      <td>11/2/2023 14:31:11</td>\n",
       "      <td>No, I have never lived on campus</td>\n",
       "      <td>I don’t</td>\n",
       "      <td>NaN</td>\n",
       "      <td>NaN</td>\n",
       "      <td>NaN</td>\n",
       "      <td>a trash bin</td>\n",
       "      <td>UCSD has recycling services??</td>\n",
       "      <td>No</td>\n",
       "      <td>No</td>\n",
       "      <td>They can leak and destroy the earth</td>\n",
       "      <td>Yes</td>\n",
       "      <td>Ask the vape shop to recycle it for me</td>\n",
       "      <td>No</td>\n",
       "      <td>Put it outside my room and hope it magically d...</td>\n",
       "    </tr>\n",
       "    <tr>\n",
       "      <th>4</th>\n",
       "      <td>11/2/2023 14:31:33</td>\n",
       "      <td>Yes, I have lived on campus in the past</td>\n",
       "      <td>Seventh</td>\n",
       "      <td>5.0</td>\n",
       "      <td>Yes, a few</td>\n",
       "      <td>Have to look up online first</td>\n",
       "      <td>a trash bin</td>\n",
       "      <td>UCSD has recycling services??</td>\n",
       "      <td>No</td>\n",
       "      <td>No</td>\n",
       "      <td>They can leak and destroy the earth</td>\n",
       "      <td>Yes</td>\n",
       "      <td>Trashing it into the trash bin</td>\n",
       "      <td>Yes</td>\n",
       "      <td>Put it in the blue recycling trash</td>\n",
       "    </tr>\n",
       "    <tr>\n",
       "      <th>...</th>\n",
       "      <td>...</td>\n",
       "      <td>...</td>\n",
       "      <td>...</td>\n",
       "      <td>...</td>\n",
       "      <td>...</td>\n",
       "      <td>...</td>\n",
       "      <td>...</td>\n",
       "      <td>...</td>\n",
       "      <td>...</td>\n",
       "      <td>...</td>\n",
       "      <td>...</td>\n",
       "      <td>...</td>\n",
       "      <td>...</td>\n",
       "      <td>...</td>\n",
       "      <td>...</td>\n",
       "    </tr>\n",
       "    <tr>\n",
       "      <th>56</th>\n",
       "      <td>11/21/2023 14:22:49</td>\n",
       "      <td>Yes, I live on campus now</td>\n",
       "      <td>Seventh</td>\n",
       "      <td>5.0</td>\n",
       "      <td>No</td>\n",
       "      <td>NaN</td>\n",
       "      <td>I hoard them because there's no appropriate pl...</td>\n",
       "      <td>UCSD has recycling services??</td>\n",
       "      <td>No</td>\n",
       "      <td>No</td>\n",
       "      <td>They can leak and destroy the earth</td>\n",
       "      <td>Yes</td>\n",
       "      <td>Hoard it somewhere because I don't know where ...</td>\n",
       "      <td>Yes</td>\n",
       "      <td>Bringing it to an appliance recycler</td>\n",
       "    </tr>\n",
       "    <tr>\n",
       "      <th>57</th>\n",
       "      <td>11/21/2023 14:23:34</td>\n",
       "      <td>Yes, I live on campus now</td>\n",
       "      <td>Seventh</td>\n",
       "      <td>5.0</td>\n",
       "      <td>No</td>\n",
       "      <td>Have to look up online first</td>\n",
       "      <td>a designated e-waste recycling bin</td>\n",
       "      <td>UCSD has recycling services??</td>\n",
       "      <td>Yes</td>\n",
       "      <td>No</td>\n",
       "      <td>They can leak and destroy the earth</td>\n",
       "      <td>Yes</td>\n",
       "      <td>Ask the vape shop to recycle it for me</td>\n",
       "      <td>Yes</td>\n",
       "      <td>Bringing it to an appliance recycler</td>\n",
       "    </tr>\n",
       "    <tr>\n",
       "      <th>58</th>\n",
       "      <td>11/21/2023 14:32:26</td>\n",
       "      <td>Yes, I live on campus now</td>\n",
       "      <td>Seventh</td>\n",
       "      <td>4.0</td>\n",
       "      <td>Yes, a few</td>\n",
       "      <td>Have to pay recycling fee</td>\n",
       "      <td>I hoard them because there's no appropriate pl...</td>\n",
       "      <td>UCSD has recycling services??</td>\n",
       "      <td>No</td>\n",
       "      <td>No</td>\n",
       "      <td>They can leak and destroy the earth</td>\n",
       "      <td>Yes</td>\n",
       "      <td>Ask the vape shop to recycle it for me</td>\n",
       "      <td>Yes</td>\n",
       "      <td>Bringing it to an appliance recycler</td>\n",
       "    </tr>\n",
       "    <tr>\n",
       "      <th>59</th>\n",
       "      <td>11/21/2023 14:40:48</td>\n",
       "      <td>Yes, I have lived on campus in the past</td>\n",
       "      <td>Sixth</td>\n",
       "      <td>5.0</td>\n",
       "      <td>No</td>\n",
       "      <td>Have to look up online first</td>\n",
       "      <td>a trash bin</td>\n",
       "      <td>UCSD has recycling services??</td>\n",
       "      <td>No</td>\n",
       "      <td>Yes</td>\n",
       "      <td>They can leak and destroy the earth</td>\n",
       "      <td>Yes</td>\n",
       "      <td>Hoard it somewhere because I don't know where ...</td>\n",
       "      <td>Yes</td>\n",
       "      <td>Bringing it to an appliance recycler</td>\n",
       "    </tr>\n",
       "    <tr>\n",
       "      <th>60</th>\n",
       "      <td>11/21/2023 15:36:47</td>\n",
       "      <td>Yes, I live on campus now</td>\n",
       "      <td>Seventh</td>\n",
       "      <td>3.0</td>\n",
       "      <td>No</td>\n",
       "      <td>Have to look up online first</td>\n",
       "      <td>I hoard them because there's no appropriate pl...</td>\n",
       "      <td>Not very well known but easy to use</td>\n",
       "      <td>No</td>\n",
       "      <td>No</td>\n",
       "      <td>They can leak and destroy the earth</td>\n",
       "      <td>Yes</td>\n",
       "      <td>Ask the vape shop to recycle it for me</td>\n",
       "      <td>Yes</td>\n",
       "      <td>Bringing it to an appliance recycler</td>\n",
       "    </tr>\n",
       "  </tbody>\n",
       "</table>\n",
       "<p>61 rows × 15 columns</p>\n",
       "</div>"
      ],
      "text/plain": [
       "              Timestamp           Have you ever lived on campus?  \\\n",
       "0    11/2/2023 14:25:26  Yes, I have lived on campus in the past   \n",
       "1    11/2/2023 14:31:04                Yes, I live on campus now   \n",
       "2    11/2/2023 14:31:07  Yes, I have lived on campus in the past   \n",
       "3    11/2/2023 14:31:11         No, I have never lived on campus   \n",
       "4    11/2/2023 14:31:33  Yes, I have lived on campus in the past   \n",
       "..                  ...                                      ...   \n",
       "56  11/21/2023 14:22:49                Yes, I live on campus now   \n",
       "57  11/21/2023 14:23:34                Yes, I live on campus now   \n",
       "58  11/21/2023 14:32:26                Yes, I live on campus now   \n",
       "59  11/21/2023 14:40:48  Yes, I have lived on campus in the past   \n",
       "60  11/21/2023 15:36:47                Yes, I live on campus now   \n",
       "\n",
       "   If you live (lived) on campus, which college dorm do (did) you live in?  \\\n",
       "0                                             Seventh                        \n",
       "1                                               Sixth                        \n",
       "2                                             Seventh                        \n",
       "3                                            I don’t                         \n",
       "4                                             Seventh                        \n",
       "..                                                ...                        \n",
       "56                                            Seventh                        \n",
       "57                                            Seventh                        \n",
       "58                                            Seventh                        \n",
       "59                                              Sixth                        \n",
       "60                                            Seventh                        \n",
       "\n",
       "    On a scale of 1 to 5, how easy you would say it is to get your e-waste recycled on campus?   \\\n",
       "0                                                 5.0                                             \n",
       "1                                                 4.0                                             \n",
       "2                                                 4.0                                             \n",
       "3                                                 NaN                                             \n",
       "4                                                 5.0                                             \n",
       "..                                                ...                                             \n",
       "56                                                5.0                                             \n",
       "57                                                5.0                                             \n",
       "58                                                4.0                                             \n",
       "59                                                5.0                                             \n",
       "60                                                3.0                                             \n",
       "\n",
       "   Do you have any gadget, batteries, vapes, or appliances that needs to be thrown away?   \\\n",
       "0                                          Yes, a few                                       \n",
       "1                                          Yes, a few                                       \n",
       "2                                                  No                                       \n",
       "3                                                 NaN                                       \n",
       "4                                          Yes, a few                                       \n",
       "..                                                ...                                       \n",
       "56                                                 No                                       \n",
       "57                                                 No                                       \n",
       "58                                         Yes, a few                                       \n",
       "59                                                 No                                       \n",
       "60                                                 No                                       \n",
       "\n",
       "   What is the MOST annoying thing regarding e-waste recycling on campus?  \\\n",
       "0                        Have to look up online first                       \n",
       "1                        Have to look up online first                       \n",
       "2                        Have to look up online first                       \n",
       "3                                                 NaN                       \n",
       "4                        Have to look up online first                       \n",
       "..                                                ...                       \n",
       "56                                                NaN                       \n",
       "57                       Have to look up online first                       \n",
       "58                          Have to pay recycling fee                       \n",
       "59                       Have to look up online first                       \n",
       "60                       Have to look up online first                       \n",
       "\n",
       "   When you need to get rid of batteries or gadgets, where do you usually throw them away?   \\\n",
       "0   I hoard them because there's no appropriate pl...                                         \n",
       "1                             a general recycling bin                                         \n",
       "2                                         a trash bin                                         \n",
       "3                                         a trash bin                                         \n",
       "4                                         a trash bin                                         \n",
       "..                                                ...                                         \n",
       "56  I hoard them because there's no appropriate pl...                                         \n",
       "57                 a designated e-waste recycling bin                                         \n",
       "58  I hoard them because there's no appropriate pl...                                         \n",
       "59                                        a trash bin                                         \n",
       "60  I hoard them because there's no appropriate pl...                                         \n",
       "\n",
       "   What's your opinion on UCSD's e-waste recycling services?   \\\n",
       "0                       UCSD has recycling services??           \n",
       "1                       UCSD has recycling services??           \n",
       "2                       UCSD has recycling services??           \n",
       "3                       UCSD has recycling services??           \n",
       "4                       UCSD has recycling services??           \n",
       "..                                                ...           \n",
       "56                      UCSD has recycling services??           \n",
       "57                      UCSD has recycling services??           \n",
       "58                      UCSD has recycling services??           \n",
       "59                      UCSD has recycling services??           \n",
       "60                Not very well known but easy to use           \n",
       "\n",
       "   Have you ever obtained an e-cigarette?  \\\n",
       "0                                      No   \n",
       "1                                      No   \n",
       "2                                      No   \n",
       "3                                      No   \n",
       "4                                      No   \n",
       "..                                    ...   \n",
       "56                                     No   \n",
       "57                                    Yes   \n",
       "58                                     No   \n",
       "59                                     No   \n",
       "60                                     No   \n",
       "\n",
       "   Can I put batteries into the blue recycling bin?   \\\n",
       "0                                                 No   \n",
       "1                                                 No   \n",
       "2                                                 No   \n",
       "3                                                 No   \n",
       "4                                                 No   \n",
       "..                                               ...   \n",
       "56                                                No   \n",
       "57                                                No   \n",
       "58                                                No   \n",
       "59                                               Yes   \n",
       "60                                                No   \n",
       "\n",
       "   What happens to batteries once they are in the landfill?  \\\n",
       "0                 They can leak and DESTROY THE EARTH         \n",
       "1                 They can leak and destroy the earth         \n",
       "2                 They can leak and destroy the earth         \n",
       "3                 They can leak and destroy the earth         \n",
       "4                 They can leak and destroy the earth         \n",
       "..                                                ...         \n",
       "56                They can leak and destroy the earth         \n",
       "57                They can leak and destroy the earth         \n",
       "58                They can leak and destroy the earth         \n",
       "59                They can leak and destroy the earth         \n",
       "60                They can leak and destroy the earth         \n",
       "\n",
       "   Is this an e-waste?   \\\n",
       "0                   Yes   \n",
       "1                   Yes   \n",
       "2                   Yes   \n",
       "3                   Yes   \n",
       "4                   Yes   \n",
       "..                  ...   \n",
       "56                  Yes   \n",
       "57                  Yes   \n",
       "58                  Yes   \n",
       "59                  Yes   \n",
       "60                  Yes   \n",
       "\n",
       "   If you were to throw away an e-cigarette, how would you do it?   \\\n",
       "0   Hoard it somewhere because I don't know where ...                \n",
       "1                  Trashing it into the recycling bin                \n",
       "2                      Trashing it into the trash bin                \n",
       "3              Ask the vape shop to recycle it for me                \n",
       "4                      Trashing it into the trash bin                \n",
       "..                                                ...                \n",
       "56  Hoard it somewhere because I don't know where ...                \n",
       "57             Ask the vape shop to recycle it for me                \n",
       "58             Ask the vape shop to recycle it for me                \n",
       "59  Hoard it somewhere because I don't know where ...                \n",
       "60             Ask the vape shop to recycle it for me                \n",
       "\n",
       "   Is this an e-waste? .1                How would you recycle a microwave?   \n",
       "0                     Yes               Bringing it to an appliance recycler  \n",
       "1                     Yes                 Put it in the blue recycling trash  \n",
       "2                     Yes               Bringing it to an appliance recycler  \n",
       "3                      No  Put it outside my room and hope it magically d...  \n",
       "4                     Yes                 Put it in the blue recycling trash  \n",
       "..                    ...                                                ...  \n",
       "56                    Yes               Bringing it to an appliance recycler  \n",
       "57                    Yes               Bringing it to an appliance recycler  \n",
       "58                    Yes               Bringing it to an appliance recycler  \n",
       "59                    Yes               Bringing it to an appliance recycler  \n",
       "60                    Yes               Bringing it to an appliance recycler  \n",
       "\n",
       "[61 rows x 15 columns]"
      ]
     },
     "execution_count": 3,
     "metadata": {},
     "output_type": "execute_result"
    }
   ],
   "source": [
    "data = pd.read_csv('Survey-Response.csv')\n",
    "data"
   ]
  },
  {
   "cell_type": "code",
   "execution_count": 4,
   "metadata": {},
   "outputs": [
    {
     "data": {
      "text/plain": [
       "I hoard them because there's no appropriate place to throw them    27\n",
       "a trash bin                                                        26\n",
       "a general recycling bin                                             4\n",
       "a designated e-waste recycling bin                                  4\n",
       "Name: When you need to get rid of batteries or gadgets, where do you usually throw them away? , dtype: int64"
      ]
     },
     "execution_count": 4,
     "metadata": {},
     "output_type": "execute_result"
    }
   ],
   "source": [
    "data['When you need to get rid of batteries or gadgets, where do you usually throw them away? '].value_counts()"
   ]
  },
  {
   "cell_type": "code",
   "execution_count": 5,
   "metadata": {},
   "outputs": [
    {
     "data": {
      "text/plain": [
       "UCSD has recycling services??                 48\n",
       "Not very well known but easy to use           11\n",
       "Difficult to use, they won't take my items     2\n",
       "Name: What's your opinion on UCSD's e-waste recycling services? , dtype: int64"
      ]
     },
     "execution_count": 5,
     "metadata": {},
     "output_type": "execute_result"
    }
   ],
   "source": [
    "data['What\\'s your opinion on UCSD\\'s e-waste recycling services? '].value_counts()"
   ]
  },
  {
   "cell_type": "code",
   "execution_count": 6,
   "metadata": {},
   "outputs": [
    {
     "name": "stdout",
     "output_type": "stream",
     "text": [
      "<class 'pandas.core.frame.DataFrame'>\n",
      "RangeIndex: 61 entries, 0 to 60\n",
      "Data columns (total 15 columns):\n",
      " #   Column                                                                                       Non-Null Count  Dtype  \n",
      "---  ------                                                                                       --------------  -----  \n",
      " 0   Timestamp                                                                                    61 non-null     object \n",
      " 1   Have you ever lived on campus?                                                               61 non-null     object \n",
      " 2   If you live (lived) on campus, which college dorm do (did) you live in?                      56 non-null     object \n",
      " 3   On a scale of 1 to 5, how easy you would say it is to get your e-waste recycled on campus?   59 non-null     float64\n",
      " 4   Do you have any gadget, batteries, vapes, or appliances that needs to be thrown away?        60 non-null     object \n",
      " 5   What is the MOST annoying thing regarding e-waste recycling on campus?                       56 non-null     object \n",
      " 6   When you need to get rid of batteries or gadgets, where do you usually throw them away?      61 non-null     object \n",
      " 7   What's your opinion on UCSD's e-waste recycling services?                                    61 non-null     object \n",
      " 8   Have you ever obtained an e-cigarette?                                                       61 non-null     object \n",
      " 9   Can I put batteries into the blue recycling bin?                                             61 non-null     object \n",
      " 10  What happens to batteries once they are in the landfill?                                     61 non-null     object \n",
      " 11  Is this an e-waste?                                                                          61 non-null     object \n",
      " 12  If you were to throw away an e-cigarette, how would you do it?                               61 non-null     object \n",
      " 13  Is this an e-waste? .1                                                                       61 non-null     object \n",
      " 14  How would you recycle a microwave?                                                           61 non-null     object \n",
      "dtypes: float64(1), object(14)\n",
      "memory usage: 7.3+ KB\n"
     ]
    }
   ],
   "source": [
    "data.info()"
   ]
  },
  {
   "cell_type": "code",
   "execution_count": 7,
   "metadata": {},
   "outputs": [
    {
     "data": {
      "text/html": [
       "<div>\n",
       "<style scoped>\n",
       "    .dataframe tbody tr th:only-of-type {\n",
       "        vertical-align: middle;\n",
       "    }\n",
       "\n",
       "    .dataframe tbody tr th {\n",
       "        vertical-align: top;\n",
       "    }\n",
       "\n",
       "    .dataframe thead th {\n",
       "        text-align: right;\n",
       "    }\n",
       "</style>\n",
       "<table border=\"1\" class=\"dataframe\">\n",
       "  <thead>\n",
       "    <tr style=\"text-align: right;\">\n",
       "      <th></th>\n",
       "      <th>On a scale of 1 to 5, how easy you would say it is to get your e-waste recycled on campus?</th>\n",
       "    </tr>\n",
       "  </thead>\n",
       "  <tbody>\n",
       "    <tr>\n",
       "      <th>count</th>\n",
       "      <td>59.000000</td>\n",
       "    </tr>\n",
       "    <tr>\n",
       "      <th>mean</th>\n",
       "      <td>3.644068</td>\n",
       "    </tr>\n",
       "    <tr>\n",
       "      <th>std</th>\n",
       "      <td>1.185585</td>\n",
       "    </tr>\n",
       "    <tr>\n",
       "      <th>min</th>\n",
       "      <td>1.000000</td>\n",
       "    </tr>\n",
       "    <tr>\n",
       "      <th>25%</th>\n",
       "      <td>3.000000</td>\n",
       "    </tr>\n",
       "    <tr>\n",
       "      <th>50%</th>\n",
       "      <td>4.000000</td>\n",
       "    </tr>\n",
       "    <tr>\n",
       "      <th>75%</th>\n",
       "      <td>5.000000</td>\n",
       "    </tr>\n",
       "    <tr>\n",
       "      <th>max</th>\n",
       "      <td>5.000000</td>\n",
       "    </tr>\n",
       "  </tbody>\n",
       "</table>\n",
       "</div>"
      ],
      "text/plain": [
       "       On a scale of 1 to 5, how easy you would say it is to get your e-waste recycled on campus? \n",
       "count                                          59.000000                                          \n",
       "mean                                            3.644068                                          \n",
       "std                                             1.185585                                          \n",
       "min                                             1.000000                                          \n",
       "25%                                             3.000000                                          \n",
       "50%                                             4.000000                                          \n",
       "75%                                             5.000000                                          \n",
       "max                                             5.000000                                          "
      ]
     },
     "execution_count": 7,
     "metadata": {},
     "output_type": "execute_result"
    }
   ],
   "source": [
    "data.describe()"
   ]
  },
  {
   "cell_type": "code",
   "execution_count": 18,
   "metadata": {},
   "outputs": [
    {
     "data": {
      "application/vnd.plotly.v1+json": {
       "config": {
        "plotlyServerURL": "https://plot.ly"
       },
       "data": [
        {
         "alignmentgroup": "True",
         "bingroup": "x",
         "hovertemplate": "variable=Do you have any gadget, batteries, vapes, or appliances that needs to be thrown away? <br>value=%{x}<br>count=%{y}<extra></extra>",
         "legendgroup": "Do you have any gadget, batteries, vapes, or appliances that needs to be thrown away? ",
         "marker": {
          "color": "#636efa",
          "pattern": {
           "shape": ""
          }
         },
         "name": "Do you have any gadget, batteries, vapes, or appliances that needs to be thrown away? ",
         "offsetgroup": "Do you have any gadget, batteries, vapes, or appliances that needs to be thrown away? ",
         "orientation": "v",
         "showlegend": true,
         "type": "histogram",
         "x": [
          "Yes, a few",
          "Yes, a few",
          "No",
          null,
          "Yes, a few",
          "Yes, a few",
          "No",
          "Yes, a few",
          "Yes, a few",
          "Yes, a few",
          "Yes, a few",
          "No",
          "Yes, a few",
          "Yes, a few",
          "Yes, many",
          "Yes, a few",
          "No",
          "Yes, a few",
          "Yes, a few",
          "Yes, a few",
          "No",
          "Yes, many",
          "Yes, a few",
          "Yes, a few",
          "No",
          "Yes, a few",
          "Yes, a few",
          "No",
          "Yes, a few",
          "No",
          "No",
          "Yes, a few",
          "No",
          "No",
          "Yes, a few",
          "Yes, a few",
          "No",
          "Yes, a few",
          "No",
          "No",
          "No",
          "No",
          "Yes, a few",
          "No",
          "Yes, a few",
          "Yes, a few",
          "Yes, a few",
          "Yes, a few",
          "No",
          "Yes, many",
          "No",
          "No",
          "No",
          "No",
          "No",
          "Yes, a few",
          "No",
          "No",
          "Yes, a few",
          "No",
          "No"
         ],
         "xaxis": "x",
         "yaxis": "y"
        }
       ],
       "layout": {
        "barmode": "relative",
        "legend": {
         "orientation": "h",
         "title": {
          "text": "Question"
         },
         "tracegroupgap": 0,
         "x": 0.5,
         "xanchor": "center",
         "y": -0.45,
         "yanchor": "bottom"
        },
        "margin": {
         "t": 60
        },
        "template": {
         "data": {
          "bar": [
           {
            "error_x": {
             "color": "#2a3f5f"
            },
            "error_y": {
             "color": "#2a3f5f"
            },
            "marker": {
             "line": {
              "color": "#E5ECF6",
              "width": 0.5
             },
             "pattern": {
              "fillmode": "overlay",
              "size": 10,
              "solidity": 0.2
             }
            },
            "type": "bar"
           }
          ],
          "barpolar": [
           {
            "marker": {
             "line": {
              "color": "#E5ECF6",
              "width": 0.5
             },
             "pattern": {
              "fillmode": "overlay",
              "size": 10,
              "solidity": 0.2
             }
            },
            "type": "barpolar"
           }
          ],
          "carpet": [
           {
            "aaxis": {
             "endlinecolor": "#2a3f5f",
             "gridcolor": "white",
             "linecolor": "white",
             "minorgridcolor": "white",
             "startlinecolor": "#2a3f5f"
            },
            "baxis": {
             "endlinecolor": "#2a3f5f",
             "gridcolor": "white",
             "linecolor": "white",
             "minorgridcolor": "white",
             "startlinecolor": "#2a3f5f"
            },
            "type": "carpet"
           }
          ],
          "choropleth": [
           {
            "colorbar": {
             "outlinewidth": 0,
             "ticks": ""
            },
            "type": "choropleth"
           }
          ],
          "contour": [
           {
            "colorbar": {
             "outlinewidth": 0,
             "ticks": ""
            },
            "colorscale": [
             [
              0,
              "#0d0887"
             ],
             [
              0.1111111111111111,
              "#46039f"
             ],
             [
              0.2222222222222222,
              "#7201a8"
             ],
             [
              0.3333333333333333,
              "#9c179e"
             ],
             [
              0.4444444444444444,
              "#bd3786"
             ],
             [
              0.5555555555555556,
              "#d8576b"
             ],
             [
              0.6666666666666666,
              "#ed7953"
             ],
             [
              0.7777777777777778,
              "#fb9f3a"
             ],
             [
              0.8888888888888888,
              "#fdca26"
             ],
             [
              1,
              "#f0f921"
             ]
            ],
            "type": "contour"
           }
          ],
          "contourcarpet": [
           {
            "colorbar": {
             "outlinewidth": 0,
             "ticks": ""
            },
            "type": "contourcarpet"
           }
          ],
          "heatmap": [
           {
            "colorbar": {
             "outlinewidth": 0,
             "ticks": ""
            },
            "colorscale": [
             [
              0,
              "#0d0887"
             ],
             [
              0.1111111111111111,
              "#46039f"
             ],
             [
              0.2222222222222222,
              "#7201a8"
             ],
             [
              0.3333333333333333,
              "#9c179e"
             ],
             [
              0.4444444444444444,
              "#bd3786"
             ],
             [
              0.5555555555555556,
              "#d8576b"
             ],
             [
              0.6666666666666666,
              "#ed7953"
             ],
             [
              0.7777777777777778,
              "#fb9f3a"
             ],
             [
              0.8888888888888888,
              "#fdca26"
             ],
             [
              1,
              "#f0f921"
             ]
            ],
            "type": "heatmap"
           }
          ],
          "heatmapgl": [
           {
            "colorbar": {
             "outlinewidth": 0,
             "ticks": ""
            },
            "colorscale": [
             [
              0,
              "#0d0887"
             ],
             [
              0.1111111111111111,
              "#46039f"
             ],
             [
              0.2222222222222222,
              "#7201a8"
             ],
             [
              0.3333333333333333,
              "#9c179e"
             ],
             [
              0.4444444444444444,
              "#bd3786"
             ],
             [
              0.5555555555555556,
              "#d8576b"
             ],
             [
              0.6666666666666666,
              "#ed7953"
             ],
             [
              0.7777777777777778,
              "#fb9f3a"
             ],
             [
              0.8888888888888888,
              "#fdca26"
             ],
             [
              1,
              "#f0f921"
             ]
            ],
            "type": "heatmapgl"
           }
          ],
          "histogram": [
           {
            "marker": {
             "pattern": {
              "fillmode": "overlay",
              "size": 10,
              "solidity": 0.2
             }
            },
            "type": "histogram"
           }
          ],
          "histogram2d": [
           {
            "colorbar": {
             "outlinewidth": 0,
             "ticks": ""
            },
            "colorscale": [
             [
              0,
              "#0d0887"
             ],
             [
              0.1111111111111111,
              "#46039f"
             ],
             [
              0.2222222222222222,
              "#7201a8"
             ],
             [
              0.3333333333333333,
              "#9c179e"
             ],
             [
              0.4444444444444444,
              "#bd3786"
             ],
             [
              0.5555555555555556,
              "#d8576b"
             ],
             [
              0.6666666666666666,
              "#ed7953"
             ],
             [
              0.7777777777777778,
              "#fb9f3a"
             ],
             [
              0.8888888888888888,
              "#fdca26"
             ],
             [
              1,
              "#f0f921"
             ]
            ],
            "type": "histogram2d"
           }
          ],
          "histogram2dcontour": [
           {
            "colorbar": {
             "outlinewidth": 0,
             "ticks": ""
            },
            "colorscale": [
             [
              0,
              "#0d0887"
             ],
             [
              0.1111111111111111,
              "#46039f"
             ],
             [
              0.2222222222222222,
              "#7201a8"
             ],
             [
              0.3333333333333333,
              "#9c179e"
             ],
             [
              0.4444444444444444,
              "#bd3786"
             ],
             [
              0.5555555555555556,
              "#d8576b"
             ],
             [
              0.6666666666666666,
              "#ed7953"
             ],
             [
              0.7777777777777778,
              "#fb9f3a"
             ],
             [
              0.8888888888888888,
              "#fdca26"
             ],
             [
              1,
              "#f0f921"
             ]
            ],
            "type": "histogram2dcontour"
           }
          ],
          "mesh3d": [
           {
            "colorbar": {
             "outlinewidth": 0,
             "ticks": ""
            },
            "type": "mesh3d"
           }
          ],
          "parcoords": [
           {
            "line": {
             "colorbar": {
              "outlinewidth": 0,
              "ticks": ""
             }
            },
            "type": "parcoords"
           }
          ],
          "pie": [
           {
            "automargin": true,
            "type": "pie"
           }
          ],
          "scatter": [
           {
            "fillpattern": {
             "fillmode": "overlay",
             "size": 10,
             "solidity": 0.2
            },
            "type": "scatter"
           }
          ],
          "scatter3d": [
           {
            "line": {
             "colorbar": {
              "outlinewidth": 0,
              "ticks": ""
             }
            },
            "marker": {
             "colorbar": {
              "outlinewidth": 0,
              "ticks": ""
             }
            },
            "type": "scatter3d"
           }
          ],
          "scattercarpet": [
           {
            "marker": {
             "colorbar": {
              "outlinewidth": 0,
              "ticks": ""
             }
            },
            "type": "scattercarpet"
           }
          ],
          "scattergeo": [
           {
            "marker": {
             "colorbar": {
              "outlinewidth": 0,
              "ticks": ""
             }
            },
            "type": "scattergeo"
           }
          ],
          "scattergl": [
           {
            "marker": {
             "colorbar": {
              "outlinewidth": 0,
              "ticks": ""
             }
            },
            "type": "scattergl"
           }
          ],
          "scattermapbox": [
           {
            "marker": {
             "colorbar": {
              "outlinewidth": 0,
              "ticks": ""
             }
            },
            "type": "scattermapbox"
           }
          ],
          "scatterpolar": [
           {
            "marker": {
             "colorbar": {
              "outlinewidth": 0,
              "ticks": ""
             }
            },
            "type": "scatterpolar"
           }
          ],
          "scatterpolargl": [
           {
            "marker": {
             "colorbar": {
              "outlinewidth": 0,
              "ticks": ""
             }
            },
            "type": "scatterpolargl"
           }
          ],
          "scatterternary": [
           {
            "marker": {
             "colorbar": {
              "outlinewidth": 0,
              "ticks": ""
             }
            },
            "type": "scatterternary"
           }
          ],
          "surface": [
           {
            "colorbar": {
             "outlinewidth": 0,
             "ticks": ""
            },
            "colorscale": [
             [
              0,
              "#0d0887"
             ],
             [
              0.1111111111111111,
              "#46039f"
             ],
             [
              0.2222222222222222,
              "#7201a8"
             ],
             [
              0.3333333333333333,
              "#9c179e"
             ],
             [
              0.4444444444444444,
              "#bd3786"
             ],
             [
              0.5555555555555556,
              "#d8576b"
             ],
             [
              0.6666666666666666,
              "#ed7953"
             ],
             [
              0.7777777777777778,
              "#fb9f3a"
             ],
             [
              0.8888888888888888,
              "#fdca26"
             ],
             [
              1,
              "#f0f921"
             ]
            ],
            "type": "surface"
           }
          ],
          "table": [
           {
            "cells": {
             "fill": {
              "color": "#EBF0F8"
             },
             "line": {
              "color": "white"
             }
            },
            "header": {
             "fill": {
              "color": "#C8D4E3"
             },
             "line": {
              "color": "white"
             }
            },
            "type": "table"
           }
          ]
         },
         "layout": {
          "annotationdefaults": {
           "arrowcolor": "#2a3f5f",
           "arrowhead": 0,
           "arrowwidth": 1
          },
          "autotypenumbers": "strict",
          "coloraxis": {
           "colorbar": {
            "outlinewidth": 0,
            "ticks": ""
           }
          },
          "colorscale": {
           "diverging": [
            [
             0,
             "#8e0152"
            ],
            [
             0.1,
             "#c51b7d"
            ],
            [
             0.2,
             "#de77ae"
            ],
            [
             0.3,
             "#f1b6da"
            ],
            [
             0.4,
             "#fde0ef"
            ],
            [
             0.5,
             "#f7f7f7"
            ],
            [
             0.6,
             "#e6f5d0"
            ],
            [
             0.7,
             "#b8e186"
            ],
            [
             0.8,
             "#7fbc41"
            ],
            [
             0.9,
             "#4d9221"
            ],
            [
             1,
             "#276419"
            ]
           ],
           "sequential": [
            [
             0,
             "#0d0887"
            ],
            [
             0.1111111111111111,
             "#46039f"
            ],
            [
             0.2222222222222222,
             "#7201a8"
            ],
            [
             0.3333333333333333,
             "#9c179e"
            ],
            [
             0.4444444444444444,
             "#bd3786"
            ],
            [
             0.5555555555555556,
             "#d8576b"
            ],
            [
             0.6666666666666666,
             "#ed7953"
            ],
            [
             0.7777777777777778,
             "#fb9f3a"
            ],
            [
             0.8888888888888888,
             "#fdca26"
            ],
            [
             1,
             "#f0f921"
            ]
           ],
           "sequentialminus": [
            [
             0,
             "#0d0887"
            ],
            [
             0.1111111111111111,
             "#46039f"
            ],
            [
             0.2222222222222222,
             "#7201a8"
            ],
            [
             0.3333333333333333,
             "#9c179e"
            ],
            [
             0.4444444444444444,
             "#bd3786"
            ],
            [
             0.5555555555555556,
             "#d8576b"
            ],
            [
             0.6666666666666666,
             "#ed7953"
            ],
            [
             0.7777777777777778,
             "#fb9f3a"
            ],
            [
             0.8888888888888888,
             "#fdca26"
            ],
            [
             1,
             "#f0f921"
            ]
           ]
          },
          "colorway": [
           "#636efa",
           "#EF553B",
           "#00cc96",
           "#ab63fa",
           "#FFA15A",
           "#19d3f3",
           "#FF6692",
           "#B6E880",
           "#FF97FF",
           "#FECB52"
          ],
          "font": {
           "color": "#2a3f5f"
          },
          "geo": {
           "bgcolor": "white",
           "lakecolor": "white",
           "landcolor": "#E5ECF6",
           "showlakes": true,
           "showland": true,
           "subunitcolor": "white"
          },
          "hoverlabel": {
           "align": "left"
          },
          "hovermode": "closest",
          "mapbox": {
           "style": "light"
          },
          "paper_bgcolor": "white",
          "plot_bgcolor": "#E5ECF6",
          "polar": {
           "angularaxis": {
            "gridcolor": "white",
            "linecolor": "white",
            "ticks": ""
           },
           "bgcolor": "#E5ECF6",
           "radialaxis": {
            "gridcolor": "white",
            "linecolor": "white",
            "ticks": ""
           }
          },
          "scene": {
           "xaxis": {
            "backgroundcolor": "#E5ECF6",
            "gridcolor": "white",
            "gridwidth": 2,
            "linecolor": "white",
            "showbackground": true,
            "ticks": "",
            "zerolinecolor": "white"
           },
           "yaxis": {
            "backgroundcolor": "#E5ECF6",
            "gridcolor": "white",
            "gridwidth": 2,
            "linecolor": "white",
            "showbackground": true,
            "ticks": "",
            "zerolinecolor": "white"
           },
           "zaxis": {
            "backgroundcolor": "#E5ECF6",
            "gridcolor": "white",
            "gridwidth": 2,
            "linecolor": "white",
            "showbackground": true,
            "ticks": "",
            "zerolinecolor": "white"
           }
          },
          "shapedefaults": {
           "line": {
            "color": "#2a3f5f"
           }
          },
          "ternary": {
           "aaxis": {
            "gridcolor": "white",
            "linecolor": "white",
            "ticks": ""
           },
           "baxis": {
            "gridcolor": "white",
            "linecolor": "white",
            "ticks": ""
           },
           "bgcolor": "#E5ECF6",
           "caxis": {
            "gridcolor": "white",
            "linecolor": "white",
            "ticks": ""
           }
          },
          "title": {
           "x": 0.05
          },
          "xaxis": {
           "automargin": true,
           "gridcolor": "white",
           "linecolor": "white",
           "ticks": "",
           "title": {
            "standoff": 15
           },
           "zerolinecolor": "white",
           "zerolinewidth": 2
          },
          "yaxis": {
           "automargin": true,
           "gridcolor": "white",
           "linecolor": "white",
           "ticks": "",
           "title": {
            "standoff": 15
           },
           "zerolinecolor": "white",
           "zerolinewidth": 2
          }
         }
        },
        "xaxis": {
         "anchor": "y",
         "domain": [
          0,
          1
         ],
         "title": {
          "text": "Students Responses"
         }
        },
        "yaxis": {
         "anchor": "x",
         "domain": [
          0,
          1
         ],
         "title": {
          "text": "Counts"
         }
        }
       }
      }
     },
     "metadata": {},
     "output_type": "display_data"
    }
   ],
   "source": [
    "# Chart 1: Do you have any gadget, batteries, vapes, or appliances that needs to be thrown away? \n",
    "\n",
    "fig = px.histogram(data['Do you have any gadget, batteries, vapes, or appliances that needs to be thrown away? '])\n",
    "fig.write_html('Q1_hist.html', include_plotlyjs='cdn')\n",
    "fig.update_layout(\n",
    "    xaxis_title=\"Students Responses\",\n",
    "    yaxis_title=\"Counts\",\n",
    "    legend_title=\"Question\",\n",
    "    legend=dict(yanchor='bottom', xanchor='center', y=-0.45, x=0.5, orientation='h')\n",
    ")"
   ]
  },
  {
   "cell_type": "code",
   "execution_count": 34,
   "metadata": {},
   "outputs": [
    {
     "data": {
      "application/vnd.plotly.v1+json": {
       "config": {
        "plotlyServerURL": "https://plot.ly"
       },
       "data": [
        {
         "alignmentgroup": "True",
         "bingroup": "x",
         "hovertemplate": "variable=When you need to get rid of batteries or gadgets, where do you usually throw them away? <br>value=%{x}<br>count=%{y}<extra></extra>",
         "legendgroup": "When you need to get rid of batteries or gadgets, where do you usually throw them away? ",
         "marker": {
          "color": "#636efa",
          "pattern": {
           "shape": ""
          }
         },
         "name": "When you need to get rid of batteries or gadgets, where do you usually throw them away? ",
         "offsetgroup": "When you need to get rid of batteries or gadgets, where do you usually throw them away? ",
         "orientation": "v",
         "showlegend": true,
         "type": "histogram",
         "x": [
          "I hoard them because there's no appropriate place to throw them",
          "a general recycling bin",
          "a trash bin",
          "a trash bin",
          "a trash bin",
          "a trash bin",
          "a trash bin",
          "a general recycling bin",
          "a trash bin",
          "I hoard them because there's no appropriate place to throw them",
          "a trash bin",
          "a trash bin",
          "a designated e-waste recycling bin",
          "a trash bin",
          "a trash bin",
          "a designated e-waste recycling bin",
          "I hoard them because there's no appropriate place to throw them",
          "I hoard them because there's no appropriate place to throw them",
          "I hoard them because there's no appropriate place to throw them",
          "a designated e-waste recycling bin",
          "I hoard them because there's no appropriate place to throw them",
          "I hoard them because there's no appropriate place to throw them",
          "I hoard them because there's no appropriate place to throw them",
          "a trash bin",
          "I hoard them because there's no appropriate place to throw them",
          "a trash bin",
          "I hoard them because there's no appropriate place to throw them",
          "I hoard them because there's no appropriate place to throw them",
          "a trash bin",
          "a trash bin",
          "I hoard them because there's no appropriate place to throw them",
          "a general recycling bin",
          "a trash bin",
          "I hoard them because there's no appropriate place to throw them",
          "a trash bin",
          "a trash bin",
          "I hoard them because there's no appropriate place to throw them",
          "I hoard them because there's no appropriate place to throw them",
          "a general recycling bin",
          "a trash bin",
          "I hoard them because there's no appropriate place to throw them",
          "a trash bin",
          "I hoard them because there's no appropriate place to throw them",
          "I hoard them because there's no appropriate place to throw them",
          "a trash bin",
          "a trash bin",
          "I hoard them because there's no appropriate place to throw them",
          "a trash bin",
          "I hoard them because there's no appropriate place to throw them",
          "a trash bin",
          "I hoard them because there's no appropriate place to throw them",
          "I hoard them because there's no appropriate place to throw them",
          "a trash bin",
          "a trash bin",
          "I hoard them because there's no appropriate place to throw them",
          "I hoard them because there's no appropriate place to throw them",
          "I hoard them because there's no appropriate place to throw them",
          "a designated e-waste recycling bin",
          "I hoard them because there's no appropriate place to throw them",
          "a trash bin",
          "I hoard them because there's no appropriate place to throw them"
         ],
         "xaxis": "x",
         "yaxis": "y"
        }
       ],
       "layout": {
        "barmode": "relative",
        "legend": {
         "orientation": "h",
         "title": {
          "text": "Question"
         },
         "tracegroupgap": 0,
         "x": 0.5,
         "xanchor": "center",
         "y": 1.4,
         "yanchor": "top"
        },
        "margin": {
         "t": 60
        },
        "template": {
         "data": {
          "bar": [
           {
            "error_x": {
             "color": "#2a3f5f"
            },
            "error_y": {
             "color": "#2a3f5f"
            },
            "marker": {
             "line": {
              "color": "#E5ECF6",
              "width": 0.5
             },
             "pattern": {
              "fillmode": "overlay",
              "size": 10,
              "solidity": 0.2
             }
            },
            "type": "bar"
           }
          ],
          "barpolar": [
           {
            "marker": {
             "line": {
              "color": "#E5ECF6",
              "width": 0.5
             },
             "pattern": {
              "fillmode": "overlay",
              "size": 10,
              "solidity": 0.2
             }
            },
            "type": "barpolar"
           }
          ],
          "carpet": [
           {
            "aaxis": {
             "endlinecolor": "#2a3f5f",
             "gridcolor": "white",
             "linecolor": "white",
             "minorgridcolor": "white",
             "startlinecolor": "#2a3f5f"
            },
            "baxis": {
             "endlinecolor": "#2a3f5f",
             "gridcolor": "white",
             "linecolor": "white",
             "minorgridcolor": "white",
             "startlinecolor": "#2a3f5f"
            },
            "type": "carpet"
           }
          ],
          "choropleth": [
           {
            "colorbar": {
             "outlinewidth": 0,
             "ticks": ""
            },
            "type": "choropleth"
           }
          ],
          "contour": [
           {
            "colorbar": {
             "outlinewidth": 0,
             "ticks": ""
            },
            "colorscale": [
             [
              0,
              "#0d0887"
             ],
             [
              0.1111111111111111,
              "#46039f"
             ],
             [
              0.2222222222222222,
              "#7201a8"
             ],
             [
              0.3333333333333333,
              "#9c179e"
             ],
             [
              0.4444444444444444,
              "#bd3786"
             ],
             [
              0.5555555555555556,
              "#d8576b"
             ],
             [
              0.6666666666666666,
              "#ed7953"
             ],
             [
              0.7777777777777778,
              "#fb9f3a"
             ],
             [
              0.8888888888888888,
              "#fdca26"
             ],
             [
              1,
              "#f0f921"
             ]
            ],
            "type": "contour"
           }
          ],
          "contourcarpet": [
           {
            "colorbar": {
             "outlinewidth": 0,
             "ticks": ""
            },
            "type": "contourcarpet"
           }
          ],
          "heatmap": [
           {
            "colorbar": {
             "outlinewidth": 0,
             "ticks": ""
            },
            "colorscale": [
             [
              0,
              "#0d0887"
             ],
             [
              0.1111111111111111,
              "#46039f"
             ],
             [
              0.2222222222222222,
              "#7201a8"
             ],
             [
              0.3333333333333333,
              "#9c179e"
             ],
             [
              0.4444444444444444,
              "#bd3786"
             ],
             [
              0.5555555555555556,
              "#d8576b"
             ],
             [
              0.6666666666666666,
              "#ed7953"
             ],
             [
              0.7777777777777778,
              "#fb9f3a"
             ],
             [
              0.8888888888888888,
              "#fdca26"
             ],
             [
              1,
              "#f0f921"
             ]
            ],
            "type": "heatmap"
           }
          ],
          "heatmapgl": [
           {
            "colorbar": {
             "outlinewidth": 0,
             "ticks": ""
            },
            "colorscale": [
             [
              0,
              "#0d0887"
             ],
             [
              0.1111111111111111,
              "#46039f"
             ],
             [
              0.2222222222222222,
              "#7201a8"
             ],
             [
              0.3333333333333333,
              "#9c179e"
             ],
             [
              0.4444444444444444,
              "#bd3786"
             ],
             [
              0.5555555555555556,
              "#d8576b"
             ],
             [
              0.6666666666666666,
              "#ed7953"
             ],
             [
              0.7777777777777778,
              "#fb9f3a"
             ],
             [
              0.8888888888888888,
              "#fdca26"
             ],
             [
              1,
              "#f0f921"
             ]
            ],
            "type": "heatmapgl"
           }
          ],
          "histogram": [
           {
            "marker": {
             "pattern": {
              "fillmode": "overlay",
              "size": 10,
              "solidity": 0.2
             }
            },
            "type": "histogram"
           }
          ],
          "histogram2d": [
           {
            "colorbar": {
             "outlinewidth": 0,
             "ticks": ""
            },
            "colorscale": [
             [
              0,
              "#0d0887"
             ],
             [
              0.1111111111111111,
              "#46039f"
             ],
             [
              0.2222222222222222,
              "#7201a8"
             ],
             [
              0.3333333333333333,
              "#9c179e"
             ],
             [
              0.4444444444444444,
              "#bd3786"
             ],
             [
              0.5555555555555556,
              "#d8576b"
             ],
             [
              0.6666666666666666,
              "#ed7953"
             ],
             [
              0.7777777777777778,
              "#fb9f3a"
             ],
             [
              0.8888888888888888,
              "#fdca26"
             ],
             [
              1,
              "#f0f921"
             ]
            ],
            "type": "histogram2d"
           }
          ],
          "histogram2dcontour": [
           {
            "colorbar": {
             "outlinewidth": 0,
             "ticks": ""
            },
            "colorscale": [
             [
              0,
              "#0d0887"
             ],
             [
              0.1111111111111111,
              "#46039f"
             ],
             [
              0.2222222222222222,
              "#7201a8"
             ],
             [
              0.3333333333333333,
              "#9c179e"
             ],
             [
              0.4444444444444444,
              "#bd3786"
             ],
             [
              0.5555555555555556,
              "#d8576b"
             ],
             [
              0.6666666666666666,
              "#ed7953"
             ],
             [
              0.7777777777777778,
              "#fb9f3a"
             ],
             [
              0.8888888888888888,
              "#fdca26"
             ],
             [
              1,
              "#f0f921"
             ]
            ],
            "type": "histogram2dcontour"
           }
          ],
          "mesh3d": [
           {
            "colorbar": {
             "outlinewidth": 0,
             "ticks": ""
            },
            "type": "mesh3d"
           }
          ],
          "parcoords": [
           {
            "line": {
             "colorbar": {
              "outlinewidth": 0,
              "ticks": ""
             }
            },
            "type": "parcoords"
           }
          ],
          "pie": [
           {
            "automargin": true,
            "type": "pie"
           }
          ],
          "scatter": [
           {
            "fillpattern": {
             "fillmode": "overlay",
             "size": 10,
             "solidity": 0.2
            },
            "type": "scatter"
           }
          ],
          "scatter3d": [
           {
            "line": {
             "colorbar": {
              "outlinewidth": 0,
              "ticks": ""
             }
            },
            "marker": {
             "colorbar": {
              "outlinewidth": 0,
              "ticks": ""
             }
            },
            "type": "scatter3d"
           }
          ],
          "scattercarpet": [
           {
            "marker": {
             "colorbar": {
              "outlinewidth": 0,
              "ticks": ""
             }
            },
            "type": "scattercarpet"
           }
          ],
          "scattergeo": [
           {
            "marker": {
             "colorbar": {
              "outlinewidth": 0,
              "ticks": ""
             }
            },
            "type": "scattergeo"
           }
          ],
          "scattergl": [
           {
            "marker": {
             "colorbar": {
              "outlinewidth": 0,
              "ticks": ""
             }
            },
            "type": "scattergl"
           }
          ],
          "scattermapbox": [
           {
            "marker": {
             "colorbar": {
              "outlinewidth": 0,
              "ticks": ""
             }
            },
            "type": "scattermapbox"
           }
          ],
          "scatterpolar": [
           {
            "marker": {
             "colorbar": {
              "outlinewidth": 0,
              "ticks": ""
             }
            },
            "type": "scatterpolar"
           }
          ],
          "scatterpolargl": [
           {
            "marker": {
             "colorbar": {
              "outlinewidth": 0,
              "ticks": ""
             }
            },
            "type": "scatterpolargl"
           }
          ],
          "scatterternary": [
           {
            "marker": {
             "colorbar": {
              "outlinewidth": 0,
              "ticks": ""
             }
            },
            "type": "scatterternary"
           }
          ],
          "surface": [
           {
            "colorbar": {
             "outlinewidth": 0,
             "ticks": ""
            },
            "colorscale": [
             [
              0,
              "#0d0887"
             ],
             [
              0.1111111111111111,
              "#46039f"
             ],
             [
              0.2222222222222222,
              "#7201a8"
             ],
             [
              0.3333333333333333,
              "#9c179e"
             ],
             [
              0.4444444444444444,
              "#bd3786"
             ],
             [
              0.5555555555555556,
              "#d8576b"
             ],
             [
              0.6666666666666666,
              "#ed7953"
             ],
             [
              0.7777777777777778,
              "#fb9f3a"
             ],
             [
              0.8888888888888888,
              "#fdca26"
             ],
             [
              1,
              "#f0f921"
             ]
            ],
            "type": "surface"
           }
          ],
          "table": [
           {
            "cells": {
             "fill": {
              "color": "#EBF0F8"
             },
             "line": {
              "color": "white"
             }
            },
            "header": {
             "fill": {
              "color": "#C8D4E3"
             },
             "line": {
              "color": "white"
             }
            },
            "type": "table"
           }
          ]
         },
         "layout": {
          "annotationdefaults": {
           "arrowcolor": "#2a3f5f",
           "arrowhead": 0,
           "arrowwidth": 1
          },
          "autotypenumbers": "strict",
          "coloraxis": {
           "colorbar": {
            "outlinewidth": 0,
            "ticks": ""
           }
          },
          "colorscale": {
           "diverging": [
            [
             0,
             "#8e0152"
            ],
            [
             0.1,
             "#c51b7d"
            ],
            [
             0.2,
             "#de77ae"
            ],
            [
             0.3,
             "#f1b6da"
            ],
            [
             0.4,
             "#fde0ef"
            ],
            [
             0.5,
             "#f7f7f7"
            ],
            [
             0.6,
             "#e6f5d0"
            ],
            [
             0.7,
             "#b8e186"
            ],
            [
             0.8,
             "#7fbc41"
            ],
            [
             0.9,
             "#4d9221"
            ],
            [
             1,
             "#276419"
            ]
           ],
           "sequential": [
            [
             0,
             "#0d0887"
            ],
            [
             0.1111111111111111,
             "#46039f"
            ],
            [
             0.2222222222222222,
             "#7201a8"
            ],
            [
             0.3333333333333333,
             "#9c179e"
            ],
            [
             0.4444444444444444,
             "#bd3786"
            ],
            [
             0.5555555555555556,
             "#d8576b"
            ],
            [
             0.6666666666666666,
             "#ed7953"
            ],
            [
             0.7777777777777778,
             "#fb9f3a"
            ],
            [
             0.8888888888888888,
             "#fdca26"
            ],
            [
             1,
             "#f0f921"
            ]
           ],
           "sequentialminus": [
            [
             0,
             "#0d0887"
            ],
            [
             0.1111111111111111,
             "#46039f"
            ],
            [
             0.2222222222222222,
             "#7201a8"
            ],
            [
             0.3333333333333333,
             "#9c179e"
            ],
            [
             0.4444444444444444,
             "#bd3786"
            ],
            [
             0.5555555555555556,
             "#d8576b"
            ],
            [
             0.6666666666666666,
             "#ed7953"
            ],
            [
             0.7777777777777778,
             "#fb9f3a"
            ],
            [
             0.8888888888888888,
             "#fdca26"
            ],
            [
             1,
             "#f0f921"
            ]
           ]
          },
          "colorway": [
           "#636efa",
           "#EF553B",
           "#00cc96",
           "#ab63fa",
           "#FFA15A",
           "#19d3f3",
           "#FF6692",
           "#B6E880",
           "#FF97FF",
           "#FECB52"
          ],
          "font": {
           "color": "#2a3f5f"
          },
          "geo": {
           "bgcolor": "white",
           "lakecolor": "white",
           "landcolor": "#E5ECF6",
           "showlakes": true,
           "showland": true,
           "subunitcolor": "white"
          },
          "hoverlabel": {
           "align": "left"
          },
          "hovermode": "closest",
          "mapbox": {
           "style": "light"
          },
          "paper_bgcolor": "white",
          "plot_bgcolor": "#E5ECF6",
          "polar": {
           "angularaxis": {
            "gridcolor": "white",
            "linecolor": "white",
            "ticks": ""
           },
           "bgcolor": "#E5ECF6",
           "radialaxis": {
            "gridcolor": "white",
            "linecolor": "white",
            "ticks": ""
           }
          },
          "scene": {
           "xaxis": {
            "backgroundcolor": "#E5ECF6",
            "gridcolor": "white",
            "gridwidth": 2,
            "linecolor": "white",
            "showbackground": true,
            "ticks": "",
            "zerolinecolor": "white"
           },
           "yaxis": {
            "backgroundcolor": "#E5ECF6",
            "gridcolor": "white",
            "gridwidth": 2,
            "linecolor": "white",
            "showbackground": true,
            "ticks": "",
            "zerolinecolor": "white"
           },
           "zaxis": {
            "backgroundcolor": "#E5ECF6",
            "gridcolor": "white",
            "gridwidth": 2,
            "linecolor": "white",
            "showbackground": true,
            "ticks": "",
            "zerolinecolor": "white"
           }
          },
          "shapedefaults": {
           "line": {
            "color": "#2a3f5f"
           }
          },
          "ternary": {
           "aaxis": {
            "gridcolor": "white",
            "linecolor": "white",
            "ticks": ""
           },
           "baxis": {
            "gridcolor": "white",
            "linecolor": "white",
            "ticks": ""
           },
           "bgcolor": "#E5ECF6",
           "caxis": {
            "gridcolor": "white",
            "linecolor": "white",
            "ticks": ""
           }
          },
          "title": {
           "x": 0.05
          },
          "xaxis": {
           "automargin": true,
           "gridcolor": "white",
           "linecolor": "white",
           "ticks": "",
           "title": {
            "standoff": 15
           },
           "zerolinecolor": "white",
           "zerolinewidth": 2
          },
          "yaxis": {
           "automargin": true,
           "gridcolor": "white",
           "linecolor": "white",
           "ticks": "",
           "title": {
            "standoff": 15
           },
           "zerolinecolor": "white",
           "zerolinewidth": 2
          }
         }
        },
        "xaxis": {
         "anchor": "y",
         "domain": [
          0,
          1
         ],
         "title": {
          "text": "Students Responses"
         }
        },
        "yaxis": {
         "anchor": "x",
         "domain": [
          0,
          1
         ],
         "title": {
          "text": "Counts"
         }
        }
       }
      }
     },
     "metadata": {},
     "output_type": "display_data"
    }
   ],
   "source": [
    "# Chart 2 When you need to get rid of batteries or gadgets, where do you usually throw them?\n",
    "\n",
    "fig = px.histogram(data['When you need to get rid of batteries or gadgets, where do you usually throw them away? '])\n",
    "fig.write_html('Q2_hist.html', include_plotlyjs='cdn')\n",
    "fig.update_layout(\n",
    "    xaxis_title=\"Students Responses\",\n",
    "    yaxis_title=\"Counts\",\n",
    "    legend_title=\"Question\",\n",
    "    legend=dict(yanchor='top', xanchor='center', y=1.4, x=0.5, orientation='h')\n",
    ")"
   ]
  },
  {
   "cell_type": "code",
   "execution_count": 38,
   "metadata": {},
   "outputs": [
    {
     "data": {
      "application/vnd.plotly.v1+json": {
       "config": {
        "plotlyServerURL": "https://plot.ly"
       },
       "data": [
        {
         "alignmentgroup": "True",
         "bingroup": "x",
         "hovertemplate": "variable=What's your opinion on UCSD's e-waste recycling services? <br>value=%{x}<br>count=%{y}<extra></extra>",
         "legendgroup": "What's your opinion on UCSD's e-waste recycling services? ",
         "marker": {
          "color": "#636efa",
          "pattern": {
           "shape": ""
          }
         },
         "name": "What's your opinion on UCSD's e-waste recycling services? ",
         "offsetgroup": "What's your opinion on UCSD's e-waste recycling services? ",
         "orientation": "v",
         "showlegend": true,
         "type": "histogram",
         "x": [
          "UCSD has recycling services??",
          "UCSD has recycling services??",
          "UCSD has recycling services??",
          "UCSD has recycling services??",
          "UCSD has recycling services??",
          "Difficult to use, they won't take my items",
          "Not very well known but easy to use",
          "Difficult to use, they won't take my items",
          "Not very well known but easy to use",
          "UCSD has recycling services??",
          "UCSD has recycling services??",
          "UCSD has recycling services??",
          "UCSD has recycling services??",
          "UCSD has recycling services??",
          "UCSD has recycling services??",
          "Not very well known but easy to use",
          "UCSD has recycling services??",
          "UCSD has recycling services??",
          "UCSD has recycling services??",
          "UCSD has recycling services??",
          "UCSD has recycling services??",
          "UCSD has recycling services??",
          "UCSD has recycling services??",
          "Not very well known but easy to use",
          "UCSD has recycling services??",
          "UCSD has recycling services??",
          "UCSD has recycling services??",
          "UCSD has recycling services??",
          "UCSD has recycling services??",
          "UCSD has recycling services??",
          "UCSD has recycling services??",
          "Not very well known but easy to use",
          "Not very well known but easy to use",
          "UCSD has recycling services??",
          "UCSD has recycling services??",
          "UCSD has recycling services??",
          "UCSD has recycling services??",
          "UCSD has recycling services??",
          "UCSD has recycling services??",
          "UCSD has recycling services??",
          "UCSD has recycling services??",
          "UCSD has recycling services??",
          "UCSD has recycling services??",
          "Not very well known but easy to use",
          "UCSD has recycling services??",
          "UCSD has recycling services??",
          "UCSD has recycling services??",
          "Not very well known but easy to use",
          "Not very well known but easy to use",
          "UCSD has recycling services??",
          "UCSD has recycling services??",
          "UCSD has recycling services??",
          "UCSD has recycling services??",
          "Not very well known but easy to use",
          "UCSD has recycling services??",
          "UCSD has recycling services??",
          "UCSD has recycling services??",
          "UCSD has recycling services??",
          "UCSD has recycling services??",
          "UCSD has recycling services??",
          "Not very well known but easy to use"
         ],
         "xaxis": "x",
         "yaxis": "y"
        }
       ],
       "layout": {
        "barmode": "relative",
        "legend": {
         "orientation": "h",
         "title": {
          "text": "Question"
         },
         "tracegroupgap": 0,
         "x": 0.5,
         "xanchor": "center",
         "y": 1.1,
         "yanchor": "top"
        },
        "margin": {
         "t": 60
        },
        "template": {
         "data": {
          "bar": [
           {
            "error_x": {
             "color": "#2a3f5f"
            },
            "error_y": {
             "color": "#2a3f5f"
            },
            "marker": {
             "line": {
              "color": "#E5ECF6",
              "width": 0.5
             },
             "pattern": {
              "fillmode": "overlay",
              "size": 10,
              "solidity": 0.2
             }
            },
            "type": "bar"
           }
          ],
          "barpolar": [
           {
            "marker": {
             "line": {
              "color": "#E5ECF6",
              "width": 0.5
             },
             "pattern": {
              "fillmode": "overlay",
              "size": 10,
              "solidity": 0.2
             }
            },
            "type": "barpolar"
           }
          ],
          "carpet": [
           {
            "aaxis": {
             "endlinecolor": "#2a3f5f",
             "gridcolor": "white",
             "linecolor": "white",
             "minorgridcolor": "white",
             "startlinecolor": "#2a3f5f"
            },
            "baxis": {
             "endlinecolor": "#2a3f5f",
             "gridcolor": "white",
             "linecolor": "white",
             "minorgridcolor": "white",
             "startlinecolor": "#2a3f5f"
            },
            "type": "carpet"
           }
          ],
          "choropleth": [
           {
            "colorbar": {
             "outlinewidth": 0,
             "ticks": ""
            },
            "type": "choropleth"
           }
          ],
          "contour": [
           {
            "colorbar": {
             "outlinewidth": 0,
             "ticks": ""
            },
            "colorscale": [
             [
              0,
              "#0d0887"
             ],
             [
              0.1111111111111111,
              "#46039f"
             ],
             [
              0.2222222222222222,
              "#7201a8"
             ],
             [
              0.3333333333333333,
              "#9c179e"
             ],
             [
              0.4444444444444444,
              "#bd3786"
             ],
             [
              0.5555555555555556,
              "#d8576b"
             ],
             [
              0.6666666666666666,
              "#ed7953"
             ],
             [
              0.7777777777777778,
              "#fb9f3a"
             ],
             [
              0.8888888888888888,
              "#fdca26"
             ],
             [
              1,
              "#f0f921"
             ]
            ],
            "type": "contour"
           }
          ],
          "contourcarpet": [
           {
            "colorbar": {
             "outlinewidth": 0,
             "ticks": ""
            },
            "type": "contourcarpet"
           }
          ],
          "heatmap": [
           {
            "colorbar": {
             "outlinewidth": 0,
             "ticks": ""
            },
            "colorscale": [
             [
              0,
              "#0d0887"
             ],
             [
              0.1111111111111111,
              "#46039f"
             ],
             [
              0.2222222222222222,
              "#7201a8"
             ],
             [
              0.3333333333333333,
              "#9c179e"
             ],
             [
              0.4444444444444444,
              "#bd3786"
             ],
             [
              0.5555555555555556,
              "#d8576b"
             ],
             [
              0.6666666666666666,
              "#ed7953"
             ],
             [
              0.7777777777777778,
              "#fb9f3a"
             ],
             [
              0.8888888888888888,
              "#fdca26"
             ],
             [
              1,
              "#f0f921"
             ]
            ],
            "type": "heatmap"
           }
          ],
          "heatmapgl": [
           {
            "colorbar": {
             "outlinewidth": 0,
             "ticks": ""
            },
            "colorscale": [
             [
              0,
              "#0d0887"
             ],
             [
              0.1111111111111111,
              "#46039f"
             ],
             [
              0.2222222222222222,
              "#7201a8"
             ],
             [
              0.3333333333333333,
              "#9c179e"
             ],
             [
              0.4444444444444444,
              "#bd3786"
             ],
             [
              0.5555555555555556,
              "#d8576b"
             ],
             [
              0.6666666666666666,
              "#ed7953"
             ],
             [
              0.7777777777777778,
              "#fb9f3a"
             ],
             [
              0.8888888888888888,
              "#fdca26"
             ],
             [
              1,
              "#f0f921"
             ]
            ],
            "type": "heatmapgl"
           }
          ],
          "histogram": [
           {
            "marker": {
             "pattern": {
              "fillmode": "overlay",
              "size": 10,
              "solidity": 0.2
             }
            },
            "type": "histogram"
           }
          ],
          "histogram2d": [
           {
            "colorbar": {
             "outlinewidth": 0,
             "ticks": ""
            },
            "colorscale": [
             [
              0,
              "#0d0887"
             ],
             [
              0.1111111111111111,
              "#46039f"
             ],
             [
              0.2222222222222222,
              "#7201a8"
             ],
             [
              0.3333333333333333,
              "#9c179e"
             ],
             [
              0.4444444444444444,
              "#bd3786"
             ],
             [
              0.5555555555555556,
              "#d8576b"
             ],
             [
              0.6666666666666666,
              "#ed7953"
             ],
             [
              0.7777777777777778,
              "#fb9f3a"
             ],
             [
              0.8888888888888888,
              "#fdca26"
             ],
             [
              1,
              "#f0f921"
             ]
            ],
            "type": "histogram2d"
           }
          ],
          "histogram2dcontour": [
           {
            "colorbar": {
             "outlinewidth": 0,
             "ticks": ""
            },
            "colorscale": [
             [
              0,
              "#0d0887"
             ],
             [
              0.1111111111111111,
              "#46039f"
             ],
             [
              0.2222222222222222,
              "#7201a8"
             ],
             [
              0.3333333333333333,
              "#9c179e"
             ],
             [
              0.4444444444444444,
              "#bd3786"
             ],
             [
              0.5555555555555556,
              "#d8576b"
             ],
             [
              0.6666666666666666,
              "#ed7953"
             ],
             [
              0.7777777777777778,
              "#fb9f3a"
             ],
             [
              0.8888888888888888,
              "#fdca26"
             ],
             [
              1,
              "#f0f921"
             ]
            ],
            "type": "histogram2dcontour"
           }
          ],
          "mesh3d": [
           {
            "colorbar": {
             "outlinewidth": 0,
             "ticks": ""
            },
            "type": "mesh3d"
           }
          ],
          "parcoords": [
           {
            "line": {
             "colorbar": {
              "outlinewidth": 0,
              "ticks": ""
             }
            },
            "type": "parcoords"
           }
          ],
          "pie": [
           {
            "automargin": true,
            "type": "pie"
           }
          ],
          "scatter": [
           {
            "fillpattern": {
             "fillmode": "overlay",
             "size": 10,
             "solidity": 0.2
            },
            "type": "scatter"
           }
          ],
          "scatter3d": [
           {
            "line": {
             "colorbar": {
              "outlinewidth": 0,
              "ticks": ""
             }
            },
            "marker": {
             "colorbar": {
              "outlinewidth": 0,
              "ticks": ""
             }
            },
            "type": "scatter3d"
           }
          ],
          "scattercarpet": [
           {
            "marker": {
             "colorbar": {
              "outlinewidth": 0,
              "ticks": ""
             }
            },
            "type": "scattercarpet"
           }
          ],
          "scattergeo": [
           {
            "marker": {
             "colorbar": {
              "outlinewidth": 0,
              "ticks": ""
             }
            },
            "type": "scattergeo"
           }
          ],
          "scattergl": [
           {
            "marker": {
             "colorbar": {
              "outlinewidth": 0,
              "ticks": ""
             }
            },
            "type": "scattergl"
           }
          ],
          "scattermapbox": [
           {
            "marker": {
             "colorbar": {
              "outlinewidth": 0,
              "ticks": ""
             }
            },
            "type": "scattermapbox"
           }
          ],
          "scatterpolar": [
           {
            "marker": {
             "colorbar": {
              "outlinewidth": 0,
              "ticks": ""
             }
            },
            "type": "scatterpolar"
           }
          ],
          "scatterpolargl": [
           {
            "marker": {
             "colorbar": {
              "outlinewidth": 0,
              "ticks": ""
             }
            },
            "type": "scatterpolargl"
           }
          ],
          "scatterternary": [
           {
            "marker": {
             "colorbar": {
              "outlinewidth": 0,
              "ticks": ""
             }
            },
            "type": "scatterternary"
           }
          ],
          "surface": [
           {
            "colorbar": {
             "outlinewidth": 0,
             "ticks": ""
            },
            "colorscale": [
             [
              0,
              "#0d0887"
             ],
             [
              0.1111111111111111,
              "#46039f"
             ],
             [
              0.2222222222222222,
              "#7201a8"
             ],
             [
              0.3333333333333333,
              "#9c179e"
             ],
             [
              0.4444444444444444,
              "#bd3786"
             ],
             [
              0.5555555555555556,
              "#d8576b"
             ],
             [
              0.6666666666666666,
              "#ed7953"
             ],
             [
              0.7777777777777778,
              "#fb9f3a"
             ],
             [
              0.8888888888888888,
              "#fdca26"
             ],
             [
              1,
              "#f0f921"
             ]
            ],
            "type": "surface"
           }
          ],
          "table": [
           {
            "cells": {
             "fill": {
              "color": "#EBF0F8"
             },
             "line": {
              "color": "white"
             }
            },
            "header": {
             "fill": {
              "color": "#C8D4E3"
             },
             "line": {
              "color": "white"
             }
            },
            "type": "table"
           }
          ]
         },
         "layout": {
          "annotationdefaults": {
           "arrowcolor": "#2a3f5f",
           "arrowhead": 0,
           "arrowwidth": 1
          },
          "autotypenumbers": "strict",
          "coloraxis": {
           "colorbar": {
            "outlinewidth": 0,
            "ticks": ""
           }
          },
          "colorscale": {
           "diverging": [
            [
             0,
             "#8e0152"
            ],
            [
             0.1,
             "#c51b7d"
            ],
            [
             0.2,
             "#de77ae"
            ],
            [
             0.3,
             "#f1b6da"
            ],
            [
             0.4,
             "#fde0ef"
            ],
            [
             0.5,
             "#f7f7f7"
            ],
            [
             0.6,
             "#e6f5d0"
            ],
            [
             0.7,
             "#b8e186"
            ],
            [
             0.8,
             "#7fbc41"
            ],
            [
             0.9,
             "#4d9221"
            ],
            [
             1,
             "#276419"
            ]
           ],
           "sequential": [
            [
             0,
             "#0d0887"
            ],
            [
             0.1111111111111111,
             "#46039f"
            ],
            [
             0.2222222222222222,
             "#7201a8"
            ],
            [
             0.3333333333333333,
             "#9c179e"
            ],
            [
             0.4444444444444444,
             "#bd3786"
            ],
            [
             0.5555555555555556,
             "#d8576b"
            ],
            [
             0.6666666666666666,
             "#ed7953"
            ],
            [
             0.7777777777777778,
             "#fb9f3a"
            ],
            [
             0.8888888888888888,
             "#fdca26"
            ],
            [
             1,
             "#f0f921"
            ]
           ],
           "sequentialminus": [
            [
             0,
             "#0d0887"
            ],
            [
             0.1111111111111111,
             "#46039f"
            ],
            [
             0.2222222222222222,
             "#7201a8"
            ],
            [
             0.3333333333333333,
             "#9c179e"
            ],
            [
             0.4444444444444444,
             "#bd3786"
            ],
            [
             0.5555555555555556,
             "#d8576b"
            ],
            [
             0.6666666666666666,
             "#ed7953"
            ],
            [
             0.7777777777777778,
             "#fb9f3a"
            ],
            [
             0.8888888888888888,
             "#fdca26"
            ],
            [
             1,
             "#f0f921"
            ]
           ]
          },
          "colorway": [
           "#636efa",
           "#EF553B",
           "#00cc96",
           "#ab63fa",
           "#FFA15A",
           "#19d3f3",
           "#FF6692",
           "#B6E880",
           "#FF97FF",
           "#FECB52"
          ],
          "font": {
           "color": "#2a3f5f"
          },
          "geo": {
           "bgcolor": "white",
           "lakecolor": "white",
           "landcolor": "#E5ECF6",
           "showlakes": true,
           "showland": true,
           "subunitcolor": "white"
          },
          "hoverlabel": {
           "align": "left"
          },
          "hovermode": "closest",
          "mapbox": {
           "style": "light"
          },
          "paper_bgcolor": "white",
          "plot_bgcolor": "#E5ECF6",
          "polar": {
           "angularaxis": {
            "gridcolor": "white",
            "linecolor": "white",
            "ticks": ""
           },
           "bgcolor": "#E5ECF6",
           "radialaxis": {
            "gridcolor": "white",
            "linecolor": "white",
            "ticks": ""
           }
          },
          "scene": {
           "xaxis": {
            "backgroundcolor": "#E5ECF6",
            "gridcolor": "white",
            "gridwidth": 2,
            "linecolor": "white",
            "showbackground": true,
            "ticks": "",
            "zerolinecolor": "white"
           },
           "yaxis": {
            "backgroundcolor": "#E5ECF6",
            "gridcolor": "white",
            "gridwidth": 2,
            "linecolor": "white",
            "showbackground": true,
            "ticks": "",
            "zerolinecolor": "white"
           },
           "zaxis": {
            "backgroundcolor": "#E5ECF6",
            "gridcolor": "white",
            "gridwidth": 2,
            "linecolor": "white",
            "showbackground": true,
            "ticks": "",
            "zerolinecolor": "white"
           }
          },
          "shapedefaults": {
           "line": {
            "color": "#2a3f5f"
           }
          },
          "ternary": {
           "aaxis": {
            "gridcolor": "white",
            "linecolor": "white",
            "ticks": ""
           },
           "baxis": {
            "gridcolor": "white",
            "linecolor": "white",
            "ticks": ""
           },
           "bgcolor": "#E5ECF6",
           "caxis": {
            "gridcolor": "white",
            "linecolor": "white",
            "ticks": ""
           }
          },
          "title": {
           "x": 0.05
          },
          "xaxis": {
           "automargin": true,
           "gridcolor": "white",
           "linecolor": "white",
           "ticks": "",
           "title": {
            "standoff": 15
           },
           "zerolinecolor": "white",
           "zerolinewidth": 2
          },
          "yaxis": {
           "automargin": true,
           "gridcolor": "white",
           "linecolor": "white",
           "ticks": "",
           "title": {
            "standoff": 15
           },
           "zerolinecolor": "white",
           "zerolinewidth": 2
          }
         }
        },
        "xaxis": {
         "anchor": "y",
         "domain": [
          0,
          1
         ],
         "title": {
          "text": "Students Responses"
         }
        },
        "yaxis": {
         "anchor": "x",
         "domain": [
          0,
          1
         ],
         "title": {
          "text": "Counts"
         }
        }
       }
      }
     },
     "metadata": {},
     "output_type": "display_data"
    }
   ],
   "source": [
    "# Chart 3 What’s your opinion on UCSD’s e-waste recycling services ?\n",
    "\n",
    "fig = px.histogram(data['What\\'s your opinion on UCSD\\'s e-waste recycling services? '])\n",
    "fig.write_html('Q3_hist.html', include_plotlyjs='cdn')\n",
    "fig.update_layout(\n",
    "    xaxis_title=\"Students Responses\",\n",
    "    yaxis_title=\"Counts\",\n",
    "    legend_title=\"Question\",\n",
    "    legend=dict(yanchor='top', xanchor='center', y=1.1, x=0.5, orientation='h')\n",
    ")"
   ]
  },
  {
   "cell_type": "code",
   "execution_count": 40,
   "metadata": {},
   "outputs": [
    {
     "data": {
      "application/vnd.plotly.v1+json": {
       "config": {
        "plotlyServerURL": "https://plot.ly"
       },
       "data": [
        {
         "alignmentgroup": "True",
         "bingroup": "x",
         "hovertemplate": "variable=If you were to throw away an e-cigarette, how would you do it? <br>value=%{x}<br>count=%{y}<extra></extra>",
         "legendgroup": "If you were to throw away an e-cigarette, how would you do it? ",
         "marker": {
          "color": "#636efa",
          "pattern": {
           "shape": ""
          }
         },
         "name": "If you were to throw away an e-cigarette, how would you do it? ",
         "offsetgroup": "If you were to throw away an e-cigarette, how would you do it? ",
         "orientation": "v",
         "showlegend": true,
         "type": "histogram",
         "x": [
          "Hoard it somewhere because I don't know where to throw them",
          "Trashing it into the recycling bin",
          "Trashing it into the trash bin",
          "Ask the vape shop to recycle it for me",
          "Trashing it into the trash bin",
          "Trashing it into the trash bin",
          "Hoard it somewhere because I don't know where to throw them",
          "Trashing it into the recycling bin",
          "Trashing it into the trash bin",
          "Trashing it into the trash bin",
          "Trashing it into the trash bin",
          "Ask the vape shop to recycle it for me",
          "Hoard it somewhere because I don't know where to throw them",
          "Trashing it into the trash bin",
          "Trashing it into the recycling bin",
          "Trashing it into the trash bin",
          "Ask the vape shop to recycle it for me",
          "Hoard it somewhere because I don't know where to throw them",
          "Ask the vape shop to recycle it for me",
          "Hoard it somewhere because I don't know where to throw them",
          "Ask the vape shop to recycle it for me",
          "Hoard it somewhere because I don't know where to throw them",
          "Hoard it somewhere because I don't know where to throw them",
          "Hoard it somewhere because I don't know where to throw them",
          "Hoard it somewhere because I don't know where to throw them",
          "Trashing it into the trash bin",
          "Ask the vape shop to recycle it for me",
          "Ask the vape shop to recycle it for me",
          "Trashing it into the recycling bin",
          "Trashing it into the trash bin",
          "Hoard it somewhere because I don't know where to throw them",
          "Trashing it into the recycling bin",
          "Trashing it into the recycling bin",
          "Trashing it into the trash bin",
          "Trashing it into the recycling bin",
          "Trashing it into the trash bin",
          "Ask the vape shop to recycle it for me",
          "Hoard it somewhere because I don't know where to throw them",
          "Ask the vape shop to recycle it for me",
          "Trashing it into the trash bin",
          "Ask the vape shop to recycle it for me",
          "Trashing it into the trash bin",
          "Ask the vape shop to recycle it for me",
          "Hoard it somewhere because I don't know where to throw them",
          "Ask the vape shop to recycle it for me",
          "Trashing it into the trash bin",
          "Hoard it somewhere because I don't know where to throw them",
          "Hoard it somewhere because I don't know where to throw them",
          "Hoard it somewhere because I don't know where to throw them",
          "Trashing it into the trash bin",
          "Hoard it somewhere because I don't know where to throw them",
          "Trashing it into the trash bin",
          "Trashing it into the trash bin",
          "Hoard it somewhere because I don't know where to throw them",
          "Hoard it somewhere because I don't know where to throw them",
          "Ask the vape shop to recycle it for me",
          "Hoard it somewhere because I don't know where to throw them",
          "Ask the vape shop to recycle it for me",
          "Ask the vape shop to recycle it for me",
          "Hoard it somewhere because I don't know where to throw them",
          "Ask the vape shop to recycle it for me"
         ],
         "xaxis": "x",
         "yaxis": "y"
        }
       ],
       "layout": {
        "barmode": "relative",
        "legend": {
         "orientation": "h",
         "title": {
          "text": "Question"
         },
         "tracegroupgap": 0,
         "x": 0.5,
         "xanchor": "center",
         "y": 1.2,
         "yanchor": "top"
        },
        "margin": {
         "t": 60
        },
        "template": {
         "data": {
          "bar": [
           {
            "error_x": {
             "color": "#2a3f5f"
            },
            "error_y": {
             "color": "#2a3f5f"
            },
            "marker": {
             "line": {
              "color": "#E5ECF6",
              "width": 0.5
             },
             "pattern": {
              "fillmode": "overlay",
              "size": 10,
              "solidity": 0.2
             }
            },
            "type": "bar"
           }
          ],
          "barpolar": [
           {
            "marker": {
             "line": {
              "color": "#E5ECF6",
              "width": 0.5
             },
             "pattern": {
              "fillmode": "overlay",
              "size": 10,
              "solidity": 0.2
             }
            },
            "type": "barpolar"
           }
          ],
          "carpet": [
           {
            "aaxis": {
             "endlinecolor": "#2a3f5f",
             "gridcolor": "white",
             "linecolor": "white",
             "minorgridcolor": "white",
             "startlinecolor": "#2a3f5f"
            },
            "baxis": {
             "endlinecolor": "#2a3f5f",
             "gridcolor": "white",
             "linecolor": "white",
             "minorgridcolor": "white",
             "startlinecolor": "#2a3f5f"
            },
            "type": "carpet"
           }
          ],
          "choropleth": [
           {
            "colorbar": {
             "outlinewidth": 0,
             "ticks": ""
            },
            "type": "choropleth"
           }
          ],
          "contour": [
           {
            "colorbar": {
             "outlinewidth": 0,
             "ticks": ""
            },
            "colorscale": [
             [
              0,
              "#0d0887"
             ],
             [
              0.1111111111111111,
              "#46039f"
             ],
             [
              0.2222222222222222,
              "#7201a8"
             ],
             [
              0.3333333333333333,
              "#9c179e"
             ],
             [
              0.4444444444444444,
              "#bd3786"
             ],
             [
              0.5555555555555556,
              "#d8576b"
             ],
             [
              0.6666666666666666,
              "#ed7953"
             ],
             [
              0.7777777777777778,
              "#fb9f3a"
             ],
             [
              0.8888888888888888,
              "#fdca26"
             ],
             [
              1,
              "#f0f921"
             ]
            ],
            "type": "contour"
           }
          ],
          "contourcarpet": [
           {
            "colorbar": {
             "outlinewidth": 0,
             "ticks": ""
            },
            "type": "contourcarpet"
           }
          ],
          "heatmap": [
           {
            "colorbar": {
             "outlinewidth": 0,
             "ticks": ""
            },
            "colorscale": [
             [
              0,
              "#0d0887"
             ],
             [
              0.1111111111111111,
              "#46039f"
             ],
             [
              0.2222222222222222,
              "#7201a8"
             ],
             [
              0.3333333333333333,
              "#9c179e"
             ],
             [
              0.4444444444444444,
              "#bd3786"
             ],
             [
              0.5555555555555556,
              "#d8576b"
             ],
             [
              0.6666666666666666,
              "#ed7953"
             ],
             [
              0.7777777777777778,
              "#fb9f3a"
             ],
             [
              0.8888888888888888,
              "#fdca26"
             ],
             [
              1,
              "#f0f921"
             ]
            ],
            "type": "heatmap"
           }
          ],
          "heatmapgl": [
           {
            "colorbar": {
             "outlinewidth": 0,
             "ticks": ""
            },
            "colorscale": [
             [
              0,
              "#0d0887"
             ],
             [
              0.1111111111111111,
              "#46039f"
             ],
             [
              0.2222222222222222,
              "#7201a8"
             ],
             [
              0.3333333333333333,
              "#9c179e"
             ],
             [
              0.4444444444444444,
              "#bd3786"
             ],
             [
              0.5555555555555556,
              "#d8576b"
             ],
             [
              0.6666666666666666,
              "#ed7953"
             ],
             [
              0.7777777777777778,
              "#fb9f3a"
             ],
             [
              0.8888888888888888,
              "#fdca26"
             ],
             [
              1,
              "#f0f921"
             ]
            ],
            "type": "heatmapgl"
           }
          ],
          "histogram": [
           {
            "marker": {
             "pattern": {
              "fillmode": "overlay",
              "size": 10,
              "solidity": 0.2
             }
            },
            "type": "histogram"
           }
          ],
          "histogram2d": [
           {
            "colorbar": {
             "outlinewidth": 0,
             "ticks": ""
            },
            "colorscale": [
             [
              0,
              "#0d0887"
             ],
             [
              0.1111111111111111,
              "#46039f"
             ],
             [
              0.2222222222222222,
              "#7201a8"
             ],
             [
              0.3333333333333333,
              "#9c179e"
             ],
             [
              0.4444444444444444,
              "#bd3786"
             ],
             [
              0.5555555555555556,
              "#d8576b"
             ],
             [
              0.6666666666666666,
              "#ed7953"
             ],
             [
              0.7777777777777778,
              "#fb9f3a"
             ],
             [
              0.8888888888888888,
              "#fdca26"
             ],
             [
              1,
              "#f0f921"
             ]
            ],
            "type": "histogram2d"
           }
          ],
          "histogram2dcontour": [
           {
            "colorbar": {
             "outlinewidth": 0,
             "ticks": ""
            },
            "colorscale": [
             [
              0,
              "#0d0887"
             ],
             [
              0.1111111111111111,
              "#46039f"
             ],
             [
              0.2222222222222222,
              "#7201a8"
             ],
             [
              0.3333333333333333,
              "#9c179e"
             ],
             [
              0.4444444444444444,
              "#bd3786"
             ],
             [
              0.5555555555555556,
              "#d8576b"
             ],
             [
              0.6666666666666666,
              "#ed7953"
             ],
             [
              0.7777777777777778,
              "#fb9f3a"
             ],
             [
              0.8888888888888888,
              "#fdca26"
             ],
             [
              1,
              "#f0f921"
             ]
            ],
            "type": "histogram2dcontour"
           }
          ],
          "mesh3d": [
           {
            "colorbar": {
             "outlinewidth": 0,
             "ticks": ""
            },
            "type": "mesh3d"
           }
          ],
          "parcoords": [
           {
            "line": {
             "colorbar": {
              "outlinewidth": 0,
              "ticks": ""
             }
            },
            "type": "parcoords"
           }
          ],
          "pie": [
           {
            "automargin": true,
            "type": "pie"
           }
          ],
          "scatter": [
           {
            "fillpattern": {
             "fillmode": "overlay",
             "size": 10,
             "solidity": 0.2
            },
            "type": "scatter"
           }
          ],
          "scatter3d": [
           {
            "line": {
             "colorbar": {
              "outlinewidth": 0,
              "ticks": ""
             }
            },
            "marker": {
             "colorbar": {
              "outlinewidth": 0,
              "ticks": ""
             }
            },
            "type": "scatter3d"
           }
          ],
          "scattercarpet": [
           {
            "marker": {
             "colorbar": {
              "outlinewidth": 0,
              "ticks": ""
             }
            },
            "type": "scattercarpet"
           }
          ],
          "scattergeo": [
           {
            "marker": {
             "colorbar": {
              "outlinewidth": 0,
              "ticks": ""
             }
            },
            "type": "scattergeo"
           }
          ],
          "scattergl": [
           {
            "marker": {
             "colorbar": {
              "outlinewidth": 0,
              "ticks": ""
             }
            },
            "type": "scattergl"
           }
          ],
          "scattermapbox": [
           {
            "marker": {
             "colorbar": {
              "outlinewidth": 0,
              "ticks": ""
             }
            },
            "type": "scattermapbox"
           }
          ],
          "scatterpolar": [
           {
            "marker": {
             "colorbar": {
              "outlinewidth": 0,
              "ticks": ""
             }
            },
            "type": "scatterpolar"
           }
          ],
          "scatterpolargl": [
           {
            "marker": {
             "colorbar": {
              "outlinewidth": 0,
              "ticks": ""
             }
            },
            "type": "scatterpolargl"
           }
          ],
          "scatterternary": [
           {
            "marker": {
             "colorbar": {
              "outlinewidth": 0,
              "ticks": ""
             }
            },
            "type": "scatterternary"
           }
          ],
          "surface": [
           {
            "colorbar": {
             "outlinewidth": 0,
             "ticks": ""
            },
            "colorscale": [
             [
              0,
              "#0d0887"
             ],
             [
              0.1111111111111111,
              "#46039f"
             ],
             [
              0.2222222222222222,
              "#7201a8"
             ],
             [
              0.3333333333333333,
              "#9c179e"
             ],
             [
              0.4444444444444444,
              "#bd3786"
             ],
             [
              0.5555555555555556,
              "#d8576b"
             ],
             [
              0.6666666666666666,
              "#ed7953"
             ],
             [
              0.7777777777777778,
              "#fb9f3a"
             ],
             [
              0.8888888888888888,
              "#fdca26"
             ],
             [
              1,
              "#f0f921"
             ]
            ],
            "type": "surface"
           }
          ],
          "table": [
           {
            "cells": {
             "fill": {
              "color": "#EBF0F8"
             },
             "line": {
              "color": "white"
             }
            },
            "header": {
             "fill": {
              "color": "#C8D4E3"
             },
             "line": {
              "color": "white"
             }
            },
            "type": "table"
           }
          ]
         },
         "layout": {
          "annotationdefaults": {
           "arrowcolor": "#2a3f5f",
           "arrowhead": 0,
           "arrowwidth": 1
          },
          "autotypenumbers": "strict",
          "coloraxis": {
           "colorbar": {
            "outlinewidth": 0,
            "ticks": ""
           }
          },
          "colorscale": {
           "diverging": [
            [
             0,
             "#8e0152"
            ],
            [
             0.1,
             "#c51b7d"
            ],
            [
             0.2,
             "#de77ae"
            ],
            [
             0.3,
             "#f1b6da"
            ],
            [
             0.4,
             "#fde0ef"
            ],
            [
             0.5,
             "#f7f7f7"
            ],
            [
             0.6,
             "#e6f5d0"
            ],
            [
             0.7,
             "#b8e186"
            ],
            [
             0.8,
             "#7fbc41"
            ],
            [
             0.9,
             "#4d9221"
            ],
            [
             1,
             "#276419"
            ]
           ],
           "sequential": [
            [
             0,
             "#0d0887"
            ],
            [
             0.1111111111111111,
             "#46039f"
            ],
            [
             0.2222222222222222,
             "#7201a8"
            ],
            [
             0.3333333333333333,
             "#9c179e"
            ],
            [
             0.4444444444444444,
             "#bd3786"
            ],
            [
             0.5555555555555556,
             "#d8576b"
            ],
            [
             0.6666666666666666,
             "#ed7953"
            ],
            [
             0.7777777777777778,
             "#fb9f3a"
            ],
            [
             0.8888888888888888,
             "#fdca26"
            ],
            [
             1,
             "#f0f921"
            ]
           ],
           "sequentialminus": [
            [
             0,
             "#0d0887"
            ],
            [
             0.1111111111111111,
             "#46039f"
            ],
            [
             0.2222222222222222,
             "#7201a8"
            ],
            [
             0.3333333333333333,
             "#9c179e"
            ],
            [
             0.4444444444444444,
             "#bd3786"
            ],
            [
             0.5555555555555556,
             "#d8576b"
            ],
            [
             0.6666666666666666,
             "#ed7953"
            ],
            [
             0.7777777777777778,
             "#fb9f3a"
            ],
            [
             0.8888888888888888,
             "#fdca26"
            ],
            [
             1,
             "#f0f921"
            ]
           ]
          },
          "colorway": [
           "#636efa",
           "#EF553B",
           "#00cc96",
           "#ab63fa",
           "#FFA15A",
           "#19d3f3",
           "#FF6692",
           "#B6E880",
           "#FF97FF",
           "#FECB52"
          ],
          "font": {
           "color": "#2a3f5f"
          },
          "geo": {
           "bgcolor": "white",
           "lakecolor": "white",
           "landcolor": "#E5ECF6",
           "showlakes": true,
           "showland": true,
           "subunitcolor": "white"
          },
          "hoverlabel": {
           "align": "left"
          },
          "hovermode": "closest",
          "mapbox": {
           "style": "light"
          },
          "paper_bgcolor": "white",
          "plot_bgcolor": "#E5ECF6",
          "polar": {
           "angularaxis": {
            "gridcolor": "white",
            "linecolor": "white",
            "ticks": ""
           },
           "bgcolor": "#E5ECF6",
           "radialaxis": {
            "gridcolor": "white",
            "linecolor": "white",
            "ticks": ""
           }
          },
          "scene": {
           "xaxis": {
            "backgroundcolor": "#E5ECF6",
            "gridcolor": "white",
            "gridwidth": 2,
            "linecolor": "white",
            "showbackground": true,
            "ticks": "",
            "zerolinecolor": "white"
           },
           "yaxis": {
            "backgroundcolor": "#E5ECF6",
            "gridcolor": "white",
            "gridwidth": 2,
            "linecolor": "white",
            "showbackground": true,
            "ticks": "",
            "zerolinecolor": "white"
           },
           "zaxis": {
            "backgroundcolor": "#E5ECF6",
            "gridcolor": "white",
            "gridwidth": 2,
            "linecolor": "white",
            "showbackground": true,
            "ticks": "",
            "zerolinecolor": "white"
           }
          },
          "shapedefaults": {
           "line": {
            "color": "#2a3f5f"
           }
          },
          "ternary": {
           "aaxis": {
            "gridcolor": "white",
            "linecolor": "white",
            "ticks": ""
           },
           "baxis": {
            "gridcolor": "white",
            "linecolor": "white",
            "ticks": ""
           },
           "bgcolor": "#E5ECF6",
           "caxis": {
            "gridcolor": "white",
            "linecolor": "white",
            "ticks": ""
           }
          },
          "title": {
           "x": 0.05
          },
          "xaxis": {
           "automargin": true,
           "gridcolor": "white",
           "linecolor": "white",
           "ticks": "",
           "title": {
            "standoff": 15
           },
           "zerolinecolor": "white",
           "zerolinewidth": 2
          },
          "yaxis": {
           "automargin": true,
           "gridcolor": "white",
           "linecolor": "white",
           "ticks": "",
           "title": {
            "standoff": 15
           },
           "zerolinecolor": "white",
           "zerolinewidth": 2
          }
         }
        },
        "xaxis": {
         "anchor": "y",
         "domain": [
          0,
          1
         ],
         "title": {
          "text": "Students Responses"
         }
        },
        "yaxis": {
         "anchor": "x",
         "domain": [
          0,
          1
         ],
         "title": {
          "text": "Counts"
         }
        }
       }
      }
     },
     "metadata": {},
     "output_type": "display_data"
    }
   ],
   "source": [
    "# Chart 4 If you were to throw away an e-cigarette, how would you do it?\n",
    "\n",
    "data['If you were to throw away an e-cigarette, how would you do it? ']\n",
    "\n",
    "data['If you were to throw away an\\n e-cigarette, how would you do it? '] = data['If you were to throw away an e-cigarette, how would you do it? ']\n",
    "\n",
    "fig = px.histogram(data['If you were to throw away an e-cigarette, how would you do it? '])\n",
    "fig.write_html('Q4_hist.html', include_plotlyjs='cdn')\n",
    "fig.update_layout(\n",
    "    xaxis_title=\"Students Responses\",\n",
    "    yaxis_title=\"Counts\",\n",
    "    legend_title=\"Question\",\n",
    "    legend=dict(yanchor='top', xanchor='center', y=1.2, x=0.5, orientation='h')\n",
    ")\n",
    "\n"
   ]
  },
  {
   "cell_type": "code",
   "execution_count": null,
   "metadata": {},
   "outputs": [],
   "source": []
  }
 ],
 "metadata": {
  "kernelspec": {
   "display_name": "dsc80",
   "language": "python",
   "name": "python3"
  },
  "language_info": {
   "codemirror_mode": {
    "name": "ipython",
    "version": 3
   },
   "file_extension": ".py",
   "mimetype": "text/x-python",
   "name": "python",
   "nbconvert_exporter": "python",
   "pygments_lexer": "ipython3",
   "version": "3.8.18"
  }
 },
 "nbformat": 4,
 "nbformat_minor": 2
}
